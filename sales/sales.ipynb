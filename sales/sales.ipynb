{
 "cells": [
  {
   "cell_type": "code",
   "execution_count": 1,
   "metadata": {},
   "outputs": [],
   "source": [
    "from pyspark.sql import SparkSession"
   ]
  },
  {
   "cell_type": "code",
   "execution_count": 2,
   "metadata": {},
   "outputs": [
    {
     "name": "stderr",
     "output_type": "stream",
     "text": [
      "Setting default log level to \"WARN\".\n",
      "To adjust logging level use sc.setLogLevel(newLevel). For SparkR, use setLogLevel(newLevel).\n",
      "24/05/15 11:49:57 WARN NativeCodeLoader: Unable to load native-hadoop library for your platform... using builtin-java classes where applicable\n"
     ]
    }
   ],
   "source": [
    "spark = SparkSession.builder.appName(\"Datacamp Pyspark Tutorial\").config(\"spark.memory.offHeap.enabled\",\"true\").config(\"spark.memory.offHeap.size\",\"10g\").getOrCreate()"
   ]
  },
  {
   "cell_type": "code",
   "execution_count": 3,
   "metadata": {},
   "outputs": [],
   "source": [
    "df = spark.read.csv('SalesAnalysis.csv',header=True,escape=\"\\\"\")"
   ]
  },
  {
   "cell_type": "code",
   "execution_count": 4,
   "metadata": {},
   "outputs": [
    {
     "name": "stdout",
     "output_type": "stream",
     "text": [
      "+--------+--------------------------+----------------+----------+--------------+------------------------------------+\n",
      "|Order ID|Product                   |Quantity Ordered|Price Each|Order Date    |Purchase Address                    |\n",
      "+--------+--------------------------+----------------+----------+--------------+------------------------------------+\n",
      "|176558  |USB-C Charging Cable      |2               |11.95     |04/19/19 08:46|917 1st St, Dallas, TX 75001        |\n",
      "|NULL    |NULL                      |NULL            |NULL      |NULL          |NULL                                |\n",
      "|176559  |Bose SoundSport Headphones|1               |99.99     |04/07/19 22:30|682 Chestnut St, Boston, MA 02215   |\n",
      "|176560  |Google Phone              |1               |600       |04/12/19 14:38|669 Spruce St, Los Angeles, CA 90001|\n",
      "|176560  |Wired Headphones          |1               |11.99     |04/12/19 14:38|669 Spruce St, Los Angeles, CA 90001|\n",
      "+--------+--------------------------+----------------+----------+--------------+------------------------------------+\n",
      "only showing top 5 rows\n",
      "\n"
     ]
    }
   ],
   "source": [
    "df.show(5,0)"
   ]
  },
  {
   "cell_type": "code",
   "execution_count": 5,
   "metadata": {},
   "outputs": [
    {
     "data": {
      "text/plain": [
       "186850"
      ]
     },
     "execution_count": 5,
     "metadata": {},
     "output_type": "execute_result"
    }
   ],
   "source": [
    "df.count()"
   ]
  },
  {
   "cell_type": "code",
   "execution_count": 12,
   "metadata": {},
   "outputs": [],
   "source": [
    "df.select('Product').distinct().count()"
   ]
  },
  {
   "cell_type": "code",
   "execution_count": 48,
   "metadata": {},
   "outputs": [
    {
     "name": "stdout",
     "output_type": "stream",
     "text": [
      "+--------------------+------------+\n",
      "|             Product|product_sale|\n",
      "+--------------------+------------+\n",
      "|    Wired Headphones|       18882|\n",
      "|  Macbook Pro Laptop|        4724|\n",
      "|Apple Airpods Hea...|       15549|\n",
      "|              iPhone|        6842|\n",
      "|                NULL|           0|\n",
      "|Lightning Chargin...|       21658|\n",
      "|Bose SoundSport H...|       13325|\n",
      "|USB-C Charging Cable|       21903|\n",
      "|AAA Batteries (4-...|       20641|\n",
      "|        20in Monitor|        4101|\n",
      "|    27in FHD Monitor|        7507|\n",
      "|     Vareebadd Phone|        2065|\n",
      "|34in Ultrawide Mo...|        6181|\n",
      "|            LG Dryer|         646|\n",
      "|AA Batteries (4-p...|       20577|\n",
      "|        Google Phone|        5525|\n",
      "|       Flatscreen TV|        4800|\n",
      "|  LG Washing Machine|         666|\n",
      "|             Product|         355|\n",
      "|27in 4K Gaming Mo...|        6230|\n",
      "+--------------------+------------+\n",
      "only showing top 20 rows\n",
      "\n"
     ]
    }
   ],
   "source": [
    "from pyspark.sql.functions import *\n",
    "from pyspark.sql.types import *\n",
    "\n",
    "df.groupBy('Product').agg(count('Quantity Ordered').alias('product_sale')).show()"
   ]
  },
  {
   "cell_type": "code",
   "execution_count": 22,
   "metadata": {},
   "outputs": [
    {
     "name": "stdout",
     "output_type": "stream",
     "text": [
      "+-------------------+\n",
      "|    max(Order Date)|\n",
      "+-------------------+\n",
      "|2020-01-01 05:13:00|\n",
      "+-------------------+\n",
      "\n"
     ]
    }
   ],
   "source": [
    "spark.sql(\"set spark.sql.legacy.timeParserPolicy=LEGACY\")\n",
    "df = df.withColumn('Order Date',to_timestamp(\"Order Date\", 'MM/dd/yy HH:mm'))\n",
    "df.select(max(\"Order Date\")).show()"
   ]
  },
  {
   "cell_type": "code",
   "execution_count": 24,
   "metadata": {},
   "outputs": [
    {
     "name": "stdout",
     "output_type": "stream",
     "text": [
      "+-------------------+\n",
      "|    min(Order Date)|\n",
      "+-------------------+\n",
      "|2019-01-01 03:07:00|\n",
      "+-------------------+\n",
      "\n"
     ]
    }
   ],
   "source": [
    "df.select(min(\"Order Date\")).show()"
   ]
  },
  {
   "cell_type": "code",
   "execution_count": 25,
   "metadata": {},
   "outputs": [
    {
     "name": "stdout",
     "output_type": "stream",
     "text": [
      "+--------+--------------------------+----------------+----------+-------------------+------------------------------------+\n",
      "|Order ID|Product                   |Quantity Ordered|Price Each|Order Date         |Purchase Address                    |\n",
      "+--------+--------------------------+----------------+----------+-------------------+------------------------------------+\n",
      "|176558  |USB-C Charging Cable      |2               |11.95     |2019-04-19 08:46:00|917 1st St, Dallas, TX 75001        |\n",
      "|NULL    |NULL                      |NULL            |NULL      |NULL               |NULL                                |\n",
      "|176559  |Bose SoundSport Headphones|1               |99.99     |2019-04-07 22:30:00|682 Chestnut St, Boston, MA 02215   |\n",
      "|176560  |Google Phone              |1               |600       |2019-04-12 14:38:00|669 Spruce St, Los Angeles, CA 90001|\n",
      "|176560  |Wired Headphones          |1               |11.99     |2019-04-12 14:38:00|669 Spruce St, Los Angeles, CA 90001|\n",
      "+--------+--------------------------+----------------+----------+-------------------+------------------------------------+\n",
      "only showing top 5 rows\n",
      "\n"
     ]
    }
   ],
   "source": [
    "df.show(5,0)"
   ]
  },
  {
   "cell_type": "code",
   "execution_count": 26,
   "metadata": {},
   "outputs": [],
   "source": [
    "df = df.withColumn(\"from_date\", lit(\"01/01/2019 03:07\"))\n",
    "df = df.withColumn('from_date',to_timestamp(\"from_date\", 'MM/dd/yy HH:mm'))\n",
    "\n",
    "df2=df.withColumn('from_date',to_timestamp(col('from_date'))).withColumn('recency',col(\"Order Date\").cast(\"long\") - col('from_date').cast(\"long\"))"
   ]
  },
  {
   "cell_type": "code",
   "execution_count": 27,
   "metadata": {},
   "outputs": [],
   "source": [
    "df2 = df2.join(df2.groupBy('Order ID').agg(max('recency').alias('recency')),on='recency',how='leftsemi')"
   ]
  },
  {
   "cell_type": "code",
   "execution_count": 28,
   "metadata": {},
   "outputs": [
    {
     "name": "stdout",
     "output_type": "stream",
     "text": [
      "+--------+--------+--------------------------+----------------+----------+-------------------+------------------------------------+-------------------+\n",
      "|recency |Order ID|Product                   |Quantity Ordered|Price Each|Order Date         |Purchase Address                    |from_date          |\n",
      "+--------+--------+--------------------------+----------------+----------+-------------------+------------------------------------+-------------------+\n",
      "|9351540 |176558  |USB-C Charging Cable      |2               |11.95     |2019-04-19 08:46:00|917 1st St, Dallas, TX 75001        |2019-01-01 03:07:00|\n",
      "|8364180 |176559  |Bose SoundSport Headphones|1               |99.99     |2019-04-07 22:30:00|682 Chestnut St, Boston, MA 02215   |2019-01-01 03:07:00|\n",
      "|8767860 |176560  |Google Phone              |1               |600       |2019-04-12 14:38:00|669 Spruce St, Los Angeles, CA 90001|2019-01-01 03:07:00|\n",
      "|8767860 |176560  |Wired Headphones          |1               |11.99     |2019-04-12 14:38:00|669 Spruce St, Los Angeles, CA 90001|2019-01-01 03:07:00|\n",
      "|10304400|176561  |Wired Headphones          |1               |11.99     |2019-04-30 09:27:00|333 8th St, Los Angeles, CA 90001   |2019-01-01 03:07:00|\n",
      "+--------+--------+--------------------------+----------------+----------+-------------------+------------------------------------+-------------------+\n",
      "only showing top 5 rows\n",
      "\n"
     ]
    }
   ],
   "source": [
    "df2.show(5,0)"
   ]
  },
  {
   "cell_type": "code",
   "execution_count": 29,
   "metadata": {},
   "outputs": [
    {
     "name": "stdout",
     "output_type": "stream",
     "text": [
      "root\n",
      " |-- recency: long (nullable = true)\n",
      " |-- Order ID: string (nullable = true)\n",
      " |-- Product: string (nullable = true)\n",
      " |-- Quantity Ordered: string (nullable = true)\n",
      " |-- Price Each: string (nullable = true)\n",
      " |-- Order Date: timestamp (nullable = true)\n",
      " |-- Purchase Address: string (nullable = true)\n",
      " |-- from_date: timestamp (nullable = true)\n",
      "\n"
     ]
    }
   ],
   "source": [
    "df2.printSchema()"
   ]
  },
  {
   "cell_type": "code",
   "execution_count": 39,
   "metadata": {},
   "outputs": [],
   "source": [
    "df_freq = df2.groupBy('Product').agg(count('Quantity Ordered').alias('frequency'))"
   ]
  },
  {
   "cell_type": "code",
   "execution_count": 40,
   "metadata": {},
   "outputs": [
    {
     "name": "stdout",
     "output_type": "stream",
     "text": [
      "+------------------------+---------+\n",
      "|Product                 |frequency|\n",
      "+------------------------+---------+\n",
      "|Wired Headphones        |18882    |\n",
      "|Macbook Pro Laptop      |4724     |\n",
      "|Apple Airpods Headphones|15549    |\n",
      "|iPhone                  |6842     |\n",
      "|Lightning Charging Cable|21658    |\n",
      "+------------------------+---------+\n",
      "only showing top 5 rows\n",
      "\n"
     ]
    }
   ],
   "source": [
    "df_freq.show(5,0)"
   ]
  }
 ],
 "metadata": {
  "kernelspec": {
   "display_name": "Big-Data-Analytics-ofTsS-TY",
   "language": "python",
   "name": "python3"
  },
  "language_info": {
   "codemirror_mode": {
    "name": "ipython",
    "version": 3
   },
   "file_extension": ".py",
   "mimetype": "text/x-python",
   "name": "python",
   "nbconvert_exporter": "python",
   "pygments_lexer": "ipython3",
   "version": "3.11.6"
  }
 },
 "nbformat": 4,
 "nbformat_minor": 2
}
